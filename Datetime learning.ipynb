{
 "cells": [
  {
   "cell_type": "code",
   "execution_count": 22,
   "metadata": {},
   "outputs": [
    {
     "data": {
      "text/plain": [
       "\"pd.to_datetime(pd.Series(\\n    ['Jan 1 2001',\\n     '01-04-2001', \\n     '2, 4, 2000',\\n     '2001 2 5', \\n     'May 2003', \\n     '2003/1/30',\\n     '01.03.2005 10:00']),\\n               dayfirst=True)\""
      ]
     },
     "execution_count": 22,
     "metadata": {},
     "output_type": "execute_result"
    }
   ],
   "source": [
    "import pandas as pd\n",
    "import numpy as np\n",
    "import matplotlib.pyplot as plt\n",
    "import seaborn as sns\n",
    "pd.to_datetime(pd.Series(['Jan 1 2001','01-04-2001', '2, 4, 2000','2001 2 5', 'May 2003', '2003/1/30','01.03.2005']))\n",
    "#European sysle day first\n",
    "pd.to_datetime(['14-01-2012', '01-14-2012'], dayfirst=True)\n",
    "##mix\n",
    "\"\"\"pd.to_datetime(pd.Series(\n",
    "    ['Jan 1 2001',\n",
    "     '01-04-2001', \n",
    "     '2, 4, 2000',\n",
    "     '2001 2 5', \n",
    "     'May 2003', \n",
    "     '2003/1/30',\n",
    "     '01.03.2005 10:00']),\n",
    "               dayfirst=True)\"\"\"\n"
   ]
  },
  {
   "cell_type": "code",
   "execution_count": 23,
   "metadata": {},
   "outputs": [
    {
     "data": {
      "text/plain": [
       "DatetimeIndex(['2012-10-08 18:15:05', '2012-10-09 18:15:05',\n",
       "               '2012-10-10 18:15:05', '2012-10-11 18:15:05',\n",
       "               '2012-10-12 18:15:05'],\n",
       "              dtype='datetime64[ns]', freq=None)"
      ]
     },
     "execution_count": 23,
     "metadata": {},
     "output_type": "execute_result"
    }
   ],
   "source": [
    "df = pd.DataFrame({'year': [2015, 2016],'month': [2, 3],'day': [4, 5],'hour': [2, 3]})\n",
    "pd.to_datetime(df)\n",
    "pd.to_datetime(df[['year','month','day']])\n",
    "##epock timestamp\n",
    "pd.to_datetime([1349720105, 1349806505, 1349892905,1349979305, 1350065705], unit='s')"
   ]
  },
  {
   "cell_type": "code",
   "execution_count": 24,
   "metadata": {},
   "outputs": [
    {
     "data": {
      "text/plain": [
       "Int64Index([1349720105, 1349806505, 1349892905, 1349979305], dtype='int64')"
      ]
     },
     "execution_count": 24,
     "metadata": {},
     "output_type": "execute_result"
    }
   ],
   "source": [
    "##timestaps to epock\n",
    "stamps = pd.date_range('2012-10-08 18:15:05', periods=4, freq='D')\n",
    "(stamps - pd.Timestamp(\"1970-01-01\")) // pd.Timedelta('1s')"
   ]
  },
  {
   "cell_type": "code",
   "execution_count": 25,
   "metadata": {},
   "outputs": [
    {
     "data": {
      "text/html": [
       "<div>\n",
       "<style scoped>\n",
       "    .dataframe tbody tr th:only-of-type {\n",
       "        vertical-align: middle;\n",
       "    }\n",
       "\n",
       "    .dataframe tbody tr th {\n",
       "        vertical-align: top;\n",
       "    }\n",
       "\n",
       "    .dataframe thead th {\n",
       "        text-align: right;\n",
       "    }\n",
       "</style>\n",
       "<table border=\"1\" class=\"dataframe\">\n",
       "  <thead>\n",
       "    <tr style=\"text-align: right;\">\n",
       "      <th></th>\n",
       "      <th></th>\n",
       "      <th>A</th>\n",
       "    </tr>\n",
       "  </thead>\n",
       "  <tbody>\n",
       "    <tr>\n",
       "      <th rowspan=\"2\" valign=\"top\">a</th>\n",
       "      <th>2013-01-05 00:00:00</th>\n",
       "      <td>0.767856</td>\n",
       "    </tr>\n",
       "    <tr>\n",
       "      <th>2013-01-05 12:00:00</th>\n",
       "      <td>0.067074</td>\n",
       "    </tr>\n",
       "    <tr>\n",
       "      <th rowspan=\"2\" valign=\"top\">b</th>\n",
       "      <th>2013-01-05 00:00:00</th>\n",
       "      <td>-0.295545</td>\n",
       "    </tr>\n",
       "    <tr>\n",
       "      <th>2013-01-05 12:00:00</th>\n",
       "      <td>-1.001557</td>\n",
       "    </tr>\n",
       "  </tbody>\n",
       "</table>\n",
       "</div>"
      ],
      "text/plain": [
       "                              A\n",
       "a 2013-01-05 00:00:00  0.767856\n",
       "  2013-01-05 12:00:00  0.067074\n",
       "b 2013-01-05 00:00:00 -0.295545\n",
       "  2013-01-05 12:00:00 -1.001557"
      ]
     },
     "execution_count": 25,
     "metadata": {},
     "output_type": "execute_result"
    }
   ],
   "source": [
    "##multi index datetime slicing\n",
    "dft2 = pd.DataFrame(\n",
    "    np.random.randn(20, 1), columns=['A'], \n",
    "    index=pd.MultiIndex.from_product(\n",
    "        [pd.date_range(\n",
    "            '20130101', \n",
    "            periods=10,\n",
    "            freq='12H'\n",
    "        ),\n",
    "         ['a', 'b']]\n",
    "    )\n",
    ") ;dft2\n",
    "idx = pd.IndexSlice\n",
    "dft2 = dft2.swaplevel(0, 1).sort_index()\n",
    "dft2.loc[idx[:, '2013-01-05'], :]"
   ]
  },
  {
   "cell_type": "code",
   "execution_count": 26,
   "metadata": {},
   "outputs": [
    {
     "data": {
      "text/plain": [
       "a    0\n",
       "b    3\n",
       "Name: 2001-12-12 23:57:00, dtype: int64"
      ]
     },
     "execution_count": 26,
     "metadata": {},
     "output_type": "execute_result"
    }
   ],
   "source": [
    "series_minute = pd.Series([1,2,3],pd.DatetimeIndex(['2001-12-12 23:57:00','2001-12-12 23:58:00','2001-12-12 23:59:00']))\n",
    "dft_minute = pd.DataFrame({'a':np.arange(0,3), 'b':np.arange(3,6)}, index= series_minute.index)\n",
    "## exact matching is error -> dft_minute['2001-12-12 23:57:00']\n",
    "dft_minute.loc['2001-12-12 23:57:00']"
   ]
  },
  {
   "cell_type": "code",
   "execution_count": 27,
   "metadata": {},
   "outputs": [
    {
     "data": {
      "text/plain": [
       "Timestamp('2013-05-05 00:00:00')"
      ]
     },
     "execution_count": 27,
     "metadata": {},
     "output_type": "execute_result"
    }
   ],
   "source": [
    "from pandas.tseries.offsets import CustomBusinessDay\n",
    "from datetime import datetime\n",
    "weekmask_egypt = 'Sun Mon Tue Wed Thu'\n",
    "holidays = ['2012-05-01', datetime(2013, 5, 1), np.datetime64('2014-05-01')]\n",
    "bday_egypt = CustomBusinessDay(holidays=holidays, weekmask=weekmask_egypt)\n",
    "dt = datetime(2013, 4, 30)\n",
    "dt + 2 * bday_egypt ## two time a business day ahead\n",
    "##4/30 ->Tues 5/1 ->holiday 5/2-> Thursday(First bday) 5/3-> Egypt weekend 5/5-> Sunday(Egypt bday)"
   ]
  },
  {
   "cell_type": "code",
   "execution_count": 28,
   "metadata": {},
   "outputs": [
    {
     "data": {
      "text/plain": [
       "0    3\n",
       "dtype: int64"
      ]
     },
     "execution_count": 28,
     "metadata": {},
     "output_type": "execute_result"
    }
   ],
   "source": [
    "dtt = pd.Series(datetime(2013,5,2))\n",
    "dtt.dt.dayofweek"
   ]
  },
  {
   "cell_type": "code",
   "execution_count": 29,
   "metadata": {},
   "outputs": [
    {
     "data": {
      "text/plain": [
       "2013-04-30    Tue\n",
       "2013-05-02    Thu\n",
       "2013-05-05    Sun\n",
       "2013-05-06    Mon\n",
       "2013-05-07    Tue\n",
       "Freq: C, dtype: object"
      ]
     },
     "execution_count": 29,
     "metadata": {},
     "output_type": "execute_result"
    }
   ],
   "source": [
    "dts = pd.date_range(dt, periods=5, freq=bday_egypt)\n",
    "pd.Series(dts.weekday, dts).map(pd.Series('Mon Tue Wed Thu Fri Sat Sun'.split()))"
   ]
  },
  {
   "cell_type": "code",
   "execution_count": 30,
   "metadata": {},
   "outputs": [
    {
     "data": {
      "text/plain": [
       "Timestamp('2012-07-05 00:00:00')"
      ]
     },
     "execution_count": 30,
     "metadata": {},
     "output_type": "execute_result"
    }
   ],
   "source": [
    "from pandas.tseries.holiday import Holiday, USMemorialDay,AbstractHolidayCalendar, nearest_workday, MO,DateOffset\n",
    "from pandas.tseries.offsets import CDay\n",
    "class ExampleCalendar(AbstractHolidayCalendar):\n",
    "     rules = [\n",
    "         USMemorialDay,\n",
    "         Holiday('July 4th', month=7, day=4, observance=nearest_workday),\n",
    "         Holiday('Columbus Day', month=10, day=1,\n",
    "                 offset=DateOffset(weekday=MO(2))), #same as 2*Week(weekday=2)\n",
    "     ]\n",
    "cal = ExampleCalendar()\n",
    "cal.holidays(datetime(2012, 1, 1), datetime(2012, 12, 31))\n",
    "pd.DatetimeIndex(start='7/1/2012', end='7/10/2012', freq=CDay(calendar=cal)).to_pydatetime()\n",
    "offset = CustomBusinessDay(calendar=cal)\n",
    "datetime(2012, 7, 3) + offset"
   ]
  },
  {
   "cell_type": "code",
   "execution_count": 31,
   "metadata": {},
   "outputs": [
    {
     "data": {
      "text/plain": [
       "[Holiday: Columbus Day (month=10, day=1, offset=<DateOffset: weekday=MO(+2)>),\n",
       " Holiday: July 4th (month=7, day=4, observance=<function nearest_workday at 0x11403c950>),\n",
       " Holiday: MemorialDay (month=5, day=31, offset=<DateOffset: weekday=MO(-1)>),\n",
       " Holiday: Labor Day (month=9, day=1, offset=<DateOffset: weekday=MO(+1)>)]"
      ]
     },
     "execution_count": 31,
     "metadata": {},
     "output_type": "execute_result"
    }
   ],
   "source": [
    "from pandas.tseries.holiday import get_calendar, HolidayCalendarFactory,USLaborDay\n",
    "cal = get_calendar('ExampleCalendar')\n",
    "new_cal = HolidayCalendarFactory('NewExampleCalendar', cal, USLaborDay)\n",
    "new_cal.rules"
   ]
  },
  {
   "cell_type": "code",
   "execution_count": 32,
   "metadata": {},
   "outputs": [
    {
     "data": {
      "text/plain": [
       "DatetimeIndex(['2011-06-30', '2011-07-29', '2011-08-31', '2011-09-30',\n",
       "               '2011-10-31', '2011-11-30', '2011-12-30', '2012-01-31',\n",
       "               '2012-02-29', '2012-03-30', '2012-04-30', '2012-05-31'],\n",
       "              dtype='datetime64[ns]', freq='BM')"
      ]
     },
     "execution_count": 32,
     "metadata": {},
     "output_type": "execute_result"
    }
   ],
   "source": [
    "index = pd.DatetimeIndex(pd.date_range('2018/01/01',periods = 10))\n",
    "ts = pd.Series(np.random.randn(len(index)),index=index)\n",
    "ts = pd.date_range('2011-01-31', '2011-12-30', freq='BM')\n",
    "ts.shift(5, freq='BM')#shifing data"
   ]
  },
  {
   "cell_type": "code",
   "execution_count": 33,
   "metadata": {},
   "outputs": [
    {
     "data": {
      "text/plain": [
       "2012-01-01 00:00:00    0.0\n",
       "2012-01-01 06:00:00    0.0\n",
       "2012-01-01 12:00:00    0.0\n",
       "2012-01-01 18:00:00    NaN\n",
       "2012-01-02 00:00:00    1.0\n",
       "Freq: 6H, dtype: float64"
      ]
     },
     "execution_count": 33,
     "metadata": {},
     "output_type": "execute_result"
    }
   ],
   "source": [
    "rng2 = pd.date_range('1/1/2012', end='3/31/2012', freq='D')\n",
    "ts2 =pd.Series(range(len(rng2)),index=rng2)\n",
    "ts2[:2].resample('6H').asfreq().ffill(limit=2)"
   ]
  },
  {
   "cell_type": "code",
   "execution_count": 34,
   "metadata": {},
   "outputs": [
    {
     "data": {
      "text/html": [
       "<div>\n",
       "<style scoped>\n",
       "    .dataframe tbody tr th:only-of-type {\n",
       "        vertical-align: middle;\n",
       "    }\n",
       "\n",
       "    .dataframe tbody tr th {\n",
       "        vertical-align: top;\n",
       "    }\n",
       "\n",
       "    .dataframe thead th {\n",
       "        text-align: right;\n",
       "    }\n",
       "</style>\n",
       "<table border=\"1\" class=\"dataframe\">\n",
       "  <thead>\n",
       "    <tr style=\"text-align: right;\">\n",
       "      <th></th>\n",
       "      <th>a</th>\n",
       "    </tr>\n",
       "    <tr>\n",
       "      <th>date</th>\n",
       "      <th></th>\n",
       "    </tr>\n",
       "  </thead>\n",
       "  <tbody>\n",
       "    <tr>\n",
       "      <th>2015-01-31</th>\n",
       "      <td>6</td>\n",
       "    </tr>\n",
       "    <tr>\n",
       "      <th>2015-02-28</th>\n",
       "      <td>4</td>\n",
       "    </tr>\n",
       "  </tbody>\n",
       "</table>\n",
       "</div>"
      ],
      "text/plain": [
       "            a\n",
       "date         \n",
       "2015-01-31  6\n",
       "2015-02-28  4"
      ]
     },
     "execution_count": 34,
     "metadata": {},
     "output_type": "execute_result"
    }
   ],
   "source": [
    "df = pd.DataFrame({'date': pd.date_range('2015-01-01', freq='W', periods=5),\n",
    "                   'a': np.arange(5)},\n",
    "                  index=pd.MultiIndex.from_arrays([\n",
    "                      [1,2,3,4,5],\n",
    "                      pd.date_range('2015-01-01', freq='W', periods=5)],\n",
    "                      names=['v','d']));\n",
    "df.resample('M', on='date').sum() #df.resample('M', level='d').sum()"
   ]
  },
  {
   "cell_type": "code",
   "execution_count": 35,
   "metadata": {},
   "outputs": [
    {
     "data": {
      "text/plain": [
       "'Jan. 01, 2001 was a Monday'"
      ]
     },
     "execution_count": 35,
     "metadata": {},
     "output_type": "execute_result"
    }
   ],
   "source": [
    "a = pd.Period(freq='D', year=2001, month=1, day=1)\n",
    "a.strftime('%d-%b-%Y')\n",
    "a.strftime('%b. %d, %Y was a %A')"
   ]
  },
  {
   "cell_type": "code",
   "execution_count": 36,
   "metadata": {},
   "outputs": [
    {
     "data": {
      "text/plain": [
       "PeriodIndex(['2017-03', '2017-04', '2017-05', '2017-06'], dtype='period[M]', freq='M')"
      ]
     },
     "execution_count": 36,
     "metadata": {},
     "output_type": "execute_result"
    }
   ],
   "source": [
    "pd.PeriodIndex(start='2015/1/1', periods=10, freq='D')\n",
    "pd.PeriodIndex(start=pd.Period('2017Q1', freq='Q'), end=pd.Period('2017Q2', freq='Q'), freq='M')"
   ]
  },
  {
   "cell_type": "code",
   "execution_count": 37,
   "metadata": {},
   "outputs": [
    {
     "data": {
      "text/plain": [
       "DatetimeIndex(['2016-01-01', '2016-02-01', '2016-03-01'], dtype='datetime64[ns]', freq='MS')"
      ]
     },
     "execution_count": 37,
     "metadata": {},
     "output_type": "execute_result"
    }
   ],
   "source": [
    "pi = pd.period_range('2016-01-01', periods=3, freq='M')\n",
    "pi.astype('datetime64[ns]') # convert to DatetimeIndex"
   ]
  },
  {
   "cell_type": "code",
   "execution_count": 38,
   "metadata": {},
   "outputs": [
    {
     "data": {
      "text/plain": [
       "PeriodIndex(['2011-01', '2011-02', '2011-03'], dtype='period[M]', freq='M')"
      ]
     },
     "execution_count": 38,
     "metadata": {},
     "output_type": "execute_result"
    }
   ],
   "source": [
    "dti = pd.date_range('2011-01-01', freq='M', periods=3)\n",
    "dti.astype('period[M]')# convert to PeriodIndex"
   ]
  },
  {
   "cell_type": "code",
   "execution_count": 40,
   "metadata": {},
   "outputs": [
    {
     "data": {
      "text/html": [
       "<div>\n",
       "<style scoped>\n",
       "    .dataframe tbody tr th:only-of-type {\n",
       "        vertical-align: middle;\n",
       "    }\n",
       "\n",
       "    .dataframe tbody tr th {\n",
       "        vertical-align: top;\n",
       "    }\n",
       "\n",
       "    .dataframe thead th {\n",
       "        text-align: right;\n",
       "    }\n",
       "</style>\n",
       "<table border=\"1\" class=\"dataframe\">\n",
       "  <thead>\n",
       "    <tr style=\"text-align: right;\">\n",
       "      <th></th>\n",
       "      <th>0</th>\n",
       "      <th>1</th>\n",
       "      <th>2</th>\n",
       "    </tr>\n",
       "  </thead>\n",
       "  <tbody>\n",
       "    <tr>\n",
       "      <th>0</th>\n",
       "      <td>2014-01-05</td>\n",
       "      <td>2014-01</td>\n",
       "      <td>2</td>\n",
       "    </tr>\n",
       "    <tr>\n",
       "      <th>1</th>\n",
       "      <td>2014-01-19</td>\n",
       "      <td>2014-01</td>\n",
       "      <td>2</td>\n",
       "    </tr>\n",
       "    <tr>\n",
       "      <th>2</th>\n",
       "      <td>2014-02-02</td>\n",
       "      <td>2014-02</td>\n",
       "      <td>2</td>\n",
       "    </tr>\n",
       "    <tr>\n",
       "      <th>3</th>\n",
       "      <td>2014-02-16</td>\n",
       "      <td>2014-02</td>\n",
       "      <td>2</td>\n",
       "    </tr>\n",
       "    <tr>\n",
       "      <th>4</th>\n",
       "      <td>2014-03-02</td>\n",
       "      <td>2014-03</td>\n",
       "      <td>2</td>\n",
       "    </tr>\n",
       "    <tr>\n",
       "      <th>5</th>\n",
       "      <td>2014-03-16</td>\n",
       "      <td>2014-03</td>\n",
       "      <td>2</td>\n",
       "    </tr>\n",
       "    <tr>\n",
       "      <th>6</th>\n",
       "      <td>2014-03-30</td>\n",
       "      <td>2014-03</td>\n",
       "      <td>2</td>\n",
       "    </tr>\n",
       "    <tr>\n",
       "      <th>7</th>\n",
       "      <td>2014-04-13</td>\n",
       "      <td>2014-04</td>\n",
       "      <td>2</td>\n",
       "    </tr>\n",
       "    <tr>\n",
       "      <th>8</th>\n",
       "      <td>2014-04-27</td>\n",
       "      <td>2014-04</td>\n",
       "      <td>2</td>\n",
       "    </tr>\n",
       "    <tr>\n",
       "      <th>9</th>\n",
       "      <td>2014-05-11</td>\n",
       "      <td>2014-05</td>\n",
       "      <td>2</td>\n",
       "    </tr>\n",
       "    <tr>\n",
       "      <th>10</th>\n",
       "      <td>2014-05-25</td>\n",
       "      <td>2014-05</td>\n",
       "      <td>2</td>\n",
       "    </tr>\n",
       "    <tr>\n",
       "      <th>11</th>\n",
       "      <td>2014-06-08</td>\n",
       "      <td>2014-06</td>\n",
       "      <td>2</td>\n",
       "    </tr>\n",
       "  </tbody>\n",
       "</table>\n",
       "</div>"
      ],
      "text/plain": [
       "            0       1  2\n",
       "0  2014-01-05 2014-01  2\n",
       "1  2014-01-19 2014-01  2\n",
       "2  2014-02-02 2014-02  2\n",
       "3  2014-02-16 2014-02  2\n",
       "4  2014-03-02 2014-03  2\n",
       "5  2014-03-16 2014-03  2\n",
       "6  2014-03-30 2014-03  2\n",
       "7  2014-04-13 2014-04  2\n",
       "8  2014-04-27 2014-04  2\n",
       "9  2014-05-11 2014-05  2\n",
       "10 2014-05-25 2014-05  2\n",
       "11 2014-06-08 2014-06  2"
      ]
     },
     "execution_count": 40,
     "metadata": {},
     "output_type": "execute_result"
    }
   ],
   "source": [
    "df = pd.DataFrame(pd.date_range('2014-01-01', freq='2w', periods=12))\n",
    "df[1] = pd.DatetimeIndex(df[0]).to_period('M')\n",
    "df[2] = 2; df"
   ]
  },
  {
   "cell_type": "code",
   "execution_count": 41,
   "metadata": {},
   "outputs": [
    {
     "data": {
      "text/plain": [
       "DatetimeIndex(['2014-01-05', '2014-01-19', '2014-02-02', '2014-02-16',\n",
       "               '2014-03-02', '2014-03-16', '2014-03-30', '2014-04-13',\n",
       "               '2014-04-27', '2014-05-11', '2014-05-25', '2014-06-08'],\n",
       "              dtype='datetime64[ns]', name=0, freq=None)"
      ]
     },
     "execution_count": 41,
     "metadata": {},
     "output_type": "execute_result"
    }
   ],
   "source": [
    "df.set_index([0, 1], inplace=True)\n",
    "df.index.get_level_values(0) "
   ]
  },
  {
   "cell_type": "code",
   "execution_count": 42,
   "metadata": {},
   "outputs": [
    {
     "data": {
      "text/plain": [
       "Period('2011-12', 'M')"
      ]
     },
     "execution_count": 42,
     "metadata": {},
     "output_type": "execute_result"
    }
   ],
   "source": [
    "p = pd.Period('2011')\n",
    "p.asfreq('M','s')\n",
    "p.asfreq('M','e')"
   ]
  },
  {
   "cell_type": "code",
   "execution_count": 43,
   "metadata": {},
   "outputs": [
    {
     "data": {
      "text/plain": [
       "0   2012-12-31\n",
       "1   2014-11-30\n",
       "2   9999-12-31\n",
       "dtype: object"
      ]
     },
     "execution_count": 43,
     "metadata": {},
     "output_type": "execute_result"
    }
   ],
   "source": [
    "s = pd.Series([20121231, 20141130, 99991231])\n",
    "def conv(x):\n",
    "    return pd.Period(year = x // 10000, month = x//100 % 100, day = x%100, freq='D')\n",
    "s.apply(conv)"
   ]
  },
  {
   "cell_type": "code",
   "execution_count": 48,
   "metadata": {},
   "outputs": [
    {
     "data": {
      "text/plain": [
       "PeriodIndex(['2012-12-31', '2014-11-30', '9999-12-31'], dtype='period[D]', freq='D')"
      ]
     },
     "execution_count": 48,
     "metadata": {},
     "output_type": "execute_result"
    }
   ],
   "source": [
    "span = pd.PeriodIndex(s.apply(conv)) ;span"
   ]
  },
  {
   "cell_type": "code",
   "execution_count": null,
   "metadata": {
    "collapsed": true
   },
   "outputs": [],
   "source": []
  }
 ],
 "metadata": {
  "kernelspec": {
   "display_name": "Python 3",
   "language": "python",
   "name": "python3"
  },
  "language_info": {
   "codemirror_mode": {
    "name": "ipython",
    "version": 3
   },
   "file_extension": ".py",
   "mimetype": "text/x-python",
   "name": "python",
   "nbconvert_exporter": "python",
   "pygments_lexer": "ipython3",
   "version": "3.5.6"
  }
 },
 "nbformat": 4,
 "nbformat_minor": 2
}
