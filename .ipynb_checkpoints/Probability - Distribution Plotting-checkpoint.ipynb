{
 "cells": [
  {
   "cell_type": "code",
   "execution_count": 1,
   "metadata": {
    "collapsed": true
   },
   "outputs": [],
   "source": [
    "import pandas as pd\n",
    "import numpy as np"
   ]
  },
  {
   "cell_type": "code",
   "execution_count": 16,
   "metadata": {},
   "outputs": [
    {
     "data": {
      "text/html": [
       "<div>\n",
       "<style scoped>\n",
       "    .dataframe tbody tr th:only-of-type {\n",
       "        vertical-align: middle;\n",
       "    }\n",
       "\n",
       "    .dataframe tbody tr th {\n",
       "        vertical-align: top;\n",
       "    }\n",
       "\n",
       "    .dataframe thead th {\n",
       "        text-align: right;\n",
       "    }\n",
       "</style>\n",
       "<table border=\"1\" class=\"dataframe\">\n",
       "  <thead>\n",
       "    <tr style=\"text-align: right;\">\n",
       "      <th></th>\n",
       "      <th>datetime</th>\n",
       "      <th>temperature</th>\n",
       "      <th>relative humidity</th>\n",
       "      <th>light</th>\n",
       "      <th>C02</th>\n",
       "      <th>humidity</th>\n",
       "      <th>occupancy</th>\n",
       "    </tr>\n",
       "  </thead>\n",
       "  <tbody>\n",
       "    <tr>\n",
       "      <th>0</th>\n",
       "      <td>2015-02-04 17:51:00</td>\n",
       "      <td>23.18</td>\n",
       "      <td>27.2720</td>\n",
       "      <td>426.0</td>\n",
       "      <td>721.25</td>\n",
       "      <td>0.004793</td>\n",
       "      <td>1</td>\n",
       "    </tr>\n",
       "    <tr>\n",
       "      <th>1</th>\n",
       "      <td>2015-02-04 17:51:59</td>\n",
       "      <td>23.15</td>\n",
       "      <td>27.2675</td>\n",
       "      <td>429.5</td>\n",
       "      <td>714.00</td>\n",
       "      <td>0.004783</td>\n",
       "      <td>1</td>\n",
       "    </tr>\n",
       "  </tbody>\n",
       "</table>\n",
       "</div>"
      ],
      "text/plain": [
       "              datetime  temperature  relative humidity  light     C02  \\\n",
       "0  2015-02-04 17:51:00        23.18            27.2720  426.0  721.25   \n",
       "1  2015-02-04 17:51:59        23.15            27.2675  429.5  714.00   \n",
       "\n",
       "   humidity  occupancy  \n",
       "0  0.004793          1  \n",
       "1  0.004783          1  "
      ]
     },
     "execution_count": 16,
     "metadata": {},
     "output_type": "execute_result"
    }
   ],
   "source": [
    "data = pd.read_csv('~/data/occupancy/occupancy.csv')\n",
    "data.head(2)"
   ]
  },
  {
   "cell_type": "code",
   "execution_count": 21,
   "metadata": {
    "collapsed": true
   },
   "outputs": [],
   "source": [
    "features = [\"temperature\", \"relative humidity\", \"light\", \"C02\", \"humidity\"]\n",
    "classes = [\"unoccupied\", \"occupied\"]\n",
    "X = data[features].values\n",
    "y = data.occupancy.values"
   ]
  },
  {
   "cell_type": "code",
   "execution_count": 23,
   "metadata": {},
   "outputs": [
    {
     "data": {
      "image/png": "[encoded data removed]",
      "text/plain": [
       "<Figure size 432x288 with 1 Axes>"
      ]
     },
     "metadata": {},
     "output_type": "display_data"
    }
   ],
   "source": [
    "from yellowbrick.features import RadViz\n",
    "# Instantiate the visualizer\n",
    "visualizer = RadViz(classes=classes, features=features)\n",
    "visualizer.fit(X, y)      # Fit the data to the visualizer\n",
    "visualizer.transform(X)   # Transform the data\n",
    "visualizer.poof()         # Draw/show/poof the data"
   ]
  },
  {
   "cell_type": "markdown",
   "metadata": {},
   "source": [
    "Yellowbeick::\n",
    "http://www.scikit-yb.org/en/latest/api/features/radviz.html"
   ]
  },
  {
   "cell_type": "code",
   "execution_count": 49,
   "metadata": {},
   "outputs": [
    {
     "data": {
      "image/png": "[encoded data removed]",
      "text/plain": [
       "<Figure size 432x288 with 1 Axes>"
      ]
     },
     "metadata": {
      "needs_background": "light"
     },
     "output_type": "display_data"
    }
   ],
   "source": [
    "#normal distribution plotting\n",
    "import matplotlib.pyplot as plt\n",
    "import numpy as np\n",
    "import math\n",
    "mu = 0 # expected value\n",
    "variance = 1 # variance == sigma^2\n",
    "sigma = math.sqrt(variance) ## standard deviation\n",
    "#\n",
    "x = np.linspace(mu - 3*sigma, mu + 3*sigma, 100) #99% confidence range\n",
    "#or\n",
    "left_end = sp.stats.norm.ppf(0.999, loc =0, scale = 1)\n",
    "right_end = sp.stats.norm.ppf(0.001, loc =0, scale = 1)\n",
    "x = np.linspace(right_end, left_end, 100)\n",
    "plt.plot(x, norm.pdf(x,mu,variance), c='m') \n",
    "plt.show()"
   ]
  },
  {
   "cell_type": "markdown",
   "metadata": {},
   "source": [
    "https://stackoverflow.com/questions/10138085/python-pylab-plot-normal-distribution"
   ]
  },
  {
   "cell_type": "code",
   "execution_count": 36,
   "metadata": {},
   "outputs": [
    {
     "data": {
      "text/plain": [
       "0.9505285319663519"
      ]
     },
     "execution_count": 36,
     "metadata": {},
     "output_type": "execute_result"
    }
   ],
   "source": [
    "import scipy as sp\n",
    "## cumulative density \n",
    "sp.stats.norm.cdf(1.65, loc = 0, scale = 1)"
   ]
  },
  {
   "cell_type": "code",
   "execution_count": 38,
   "metadata": {},
   "outputs": [
    {
     "data": {
      "text/plain": [
       "0.017864420562816542"
      ]
     },
     "execution_count": 38,
     "metadata": {},
     "output_type": "execute_result"
    }
   ],
   "source": [
    "sp.stats.norm.sf(2.1) ## Calculation of the \"p-value\" for the standard normal distribution in a right tailed test.\n",
    "## sf = 1 - cdf"
   ]
  },
  {
   "cell_type": "code",
   "execution_count": 47,
   "metadata": {},
   "outputs": [
    {
     "data": {
      "text/plain": [
       "2.3263478740408408"
      ]
     },
     "execution_count": 47,
     "metadata": {},
     "output_type": "execute_result"
    }
   ],
   "source": [
    "## percent point function = ppf \n",
    "sp.stats.norm.ppf(0.95, loc =0, scale = 1) "
   ]
  },
  {
   "cell_type": "code",
   "execution_count": 46,
   "metadata": {},
   "outputs": [
    {
     "data": {
      "text/plain": [
       "array([-0.30645207])"
      ]
     },
     "execution_count": 46,
     "metadata": {},
     "output_type": "execute_result"
    }
   ],
   "source": [
    "##get random value from normal distribution\n",
    "sp.stats.norm.rvs(loc=0,scale=1, size=1, random_state = None)"
   ]
  },
  {
   "cell_type": "code",
   "execution_count": 81,
   "metadata": {},
   "outputs": [
    {
     "data": {
      "image/png": "[encoded data removed]",
      "text/plain": [
       "<Figure size 432x288 with 1 Axes>"
      ]
     },
     "metadata": {
      "needs_background": "light"
     },
     "output_type": "display_data"
    }
   ],
   "source": [
    "##skew normal distribution\n",
    "from scipy.stats import skewnorm\n",
    "fig, ax = plt.subplots(1, 1)\n",
    "a = 4 #skewness is positive, which means \"mean > median\"\n",
    "\n",
    "## be able to get all moments \n",
    "mean, var, skew, kurt = skewnorm.stats(a, moments='mvsk') # Mean(‘m’), variance(‘v’), skew(‘s’), and/or kurtosis(‘k’)\n",
    "x = np.linspace(skewnorm.ppf(0.01, a), skewnorm.ppf(0.99, a), 100)\n",
    "ax.plot(x, skewnorm.pdf(x, a), 'r-', lw=7, alpha=0.5, label='skewnorm pdf')\n",
    "#\n",
    "rv = skewnorm(a)\n",
    "ax.plot(x, rv.pdf(x), 'k-', lw=2, label='frozen pdf')\n",
    "\n",
    "## check if random values are generated based on skewnorm\n",
    "r = skewnorm.rvs(a, size=1000) ##random value\n",
    "ax.hist(r, density=True, histtype='stepfilled', alpha=0.2)\n",
    "ax.legend(loc='best', frameon=False) ## set legend to show up at the best place\n",
    "plt.show()"
   ]
  },
  {
   "cell_type": "markdown",
   "metadata": {},
   "source": [
    "https://docs.scipy.org/doc/scipy/reference/generated/scipy.stats.skewnorm.html#r3d5c939da972-1"
   ]
  },
  {
   "cell_type": "code",
   "execution_count": 70,
   "metadata": {},
   "outputs": [
    {
     "data": {
      "text/plain": [
       "True"
      ]
     },
     "execution_count": 70,
     "metadata": {},
     "output_type": "execute_result"
    }
   ],
   "source": [
    "## check ppf and cdf are working correctly\n",
    "vals = skewnorm.ppf([0.001, 0.5, 0.999], a)\n",
    "np.allclose([0.001, 0.5, 0.999], skewnorm.cdf(vals, a))"
   ]
  },
  {
   "cell_type": "code",
   "execution_count": 71,
   "metadata": {},
   "outputs": [
    {
     "data": {
      "text/plain": [
       "True"
      ]
     },
     "execution_count": 71,
     "metadata": {},
     "output_type": "execute_result"
    }
   ],
   "source": [
    "#comparing\n",
    "np.allclose([1.0, np.nan], [1.0, np.nan], equal_nan=True)"
   ]
  },
  {
   "cell_type": "code",
   "execution_count": 87,
   "metadata": {
    "collapsed": true
   },
   "outputs": [],
   "source": [
    "# binominal distribution ploting\n",
    "n, p = 10, .5  # number of trials, probability of each trial\n",
    "s = np.random.binomial(n, p, 1000)"
   ]
  },
  {
   "cell_type": "code",
   "execution_count": 167,
   "metadata": {},
   "outputs": [
    {
     "data": {
      "text/plain": [
       "<matplotlib.collections.LineCollection at 0x1a1c622208>"
      ]
     },
     "execution_count": 167,
     "metadata": {},
     "output_type": "execute_result"
    },
    {
     "data": {
      "image/png": "[encoded data removed]",
      "text/plain": [
       "<Figure size 432x288 with 2 Axes>"
      ]
     },
     "metadata": {
      "needs_background": "light"
     },
     "output_type": "display_data"
    }
   ],
   "source": [
    "fig, ax1 = plt.subplots()\n",
    "ax1.hist(x= s, bins= 10,color='k', alpha=0.2)\n",
    "ax1.set_ylabel('times: times for heads ', color='k'), ax1.tick_params('y', colors='k')\n",
    "##\n",
    "k = np.arange(0,11) ## number trails, up to 10 success\n",
    "ax2 = ax1.twinx()\n",
    "binominal = sp.stats.binom.pmf(k,n,p)\n",
    "ax2.plot(k, binominal,'o')\n",
    "ax2.set_ylabel('PMF: Probability', color='b'), ax2.tick_params('y', colors='b')\n",
    "ax2.vlines(k, 0, binominal, colors='b', lw=5, alpha=0.5)\n",
    "#plt.show()"
   ]
  },
  {
   "cell_type": "markdown",
   "metadata": {},
   "source": [
    "https://matplotlib.org/examples/api/two_scales.html"
   ]
  },
  {
   "cell_type": "code",
   "execution_count": 194,
   "metadata": {},
   "outputs": [
    {
     "name": "stderr",
     "output_type": "stream",
     "text": [
      "//anaconda/lib/python3.5/site-packages/matplotlib/axes/_axes.py:6499: MatplotlibDeprecationWarning: \n",
      "The 'normed' kwarg was deprecated in Matplotlib 2.1 and will be removed in 3.1. Use 'density' instead.\n",
      "  alternative=\"'density'\", removal=\"3.1\")\n"
     ]
    },
    {
     "data": {
      "text/plain": [
       "<matplotlib.collections.LineCollection at 0x1a1d842d68>"
      ]
     },
     "execution_count": 194,
     "metadata": {},
     "output_type": "execute_result"
    },
    {
     "data": {
      "image/png": "[encoded data removed]",
      "text/plain": [
       "<Figure size 360x216 with 2 Axes>"
      ]
     },
     "metadata": {
      "needs_background": "light"
     },
     "output_type": "display_data"
    }
   ],
   "source": [
    "##normed\n",
    "fig, ax1 = plt.subplots(figsize=(5,3))\n",
    "ax1.set_xlabel('x', color='k')\n",
    "ax1.set_ylabel('Density', color='k')\n",
    "ax1.hist(x= s, bins= 10,color='k', alpha=0.2, normed=True)\n",
    "##\n",
    "ax2 = ax1.twinx()\n",
    "bincmulative = sp.stats.binom.cdf(k, n, p ,loc=0)\n",
    "ax2.plot(k, bincmulative,marker='o')\n",
    "ax2.set_ylabel('CDF', color='b'), ax2.tick_params('y', colors='b')\n",
    "ax2.vlines(k, 0, bincmulative, colors='b', lw=5, alpha=0.5)"
   ]
  },
  {
   "cell_type": "markdown",
   "metadata": {},
   "source": [
    "https://docs.scipy.org/doc/scipy/reference/generated/scipy.stats.binom.html"
   ]
  },
  {
   "cell_type": "markdown",
   "metadata": {},
   "source": [
    "https://onlinecourses.science.psu.edu/stat414/node/69/"
   ]
  },
  {
   "cell_type": "code",
   "execution_count": 196,
   "metadata": {},
   "outputs": [
    {
     "data": {
      "text/plain": [
       "0.22573131206583519"
      ]
     },
     "execution_count": 196,
     "metadata": {},
     "output_type": "execute_result"
    }
   ],
   "source": [
    "t=- 0.7745966\n",
    "dof=(15-1)\n",
    "sp.stats.t.cdf(t,df=dof)"
   ]
  },
  {
   "cell_type": "code",
   "execution_count": null,
   "metadata": {
    "collapsed": true
   },
   "outputs": [],
   "source": [
    "df =6\n",
    "sp.stats.chi2.pdf(, df)"
   ]
  },
  {
   "cell_type": "code",
   "execution_count": 201,
   "metadata": {},
   "outputs": [
    {
     "data": {
      "text/plain": [
       "<matplotlib.legend.Legend at 0x1a1ddd8d68>"
      ]
     },
     "execution_count": 201,
     "metadata": {},
     "output_type": "execute_result"
    },
    {
     "data": {
      "image/png": "[encoded data removed]",
      "text/plain": [
       "<Figure size 432x288 with 1 Axes>"
      ]
     },
     "metadata": {
      "needs_background": "light"
     },
     "output_type": "display_data"
    }
   ],
   "source": [
    "## chi-squared distribution \n",
    "x = np.linspace(0, 5, 1000)\n",
    "fig,ax = plt.subplots(1,1)\n",
    "\n",
    "linestyles = [':', '--', '-.', '-']\n",
    "deg_of_freedom = [1, 2, 3, 4]\n",
    "for df, ls in zip(deg_of_freedom, linestyles):\n",
    "  ax.plot(x, sp.stats.chi2.pdf(x, df), linestyle=ls, label=r'$df=%i$' % df)\n",
    "\n",
    "plt.xlim(0, 5), plt.ylim(0, 0.5)\n",
    "\n",
    "plt.xlabel('$\\chi^2$')\n",
    "plt.ylabel(r'$f(\\chi^2)$')\n",
    "plt.title(r'$\\chi^2\\ \\mathrm{Distribution}$')\n",
    "\n",
    "plt.legend()"
   ]
  },
  {
   "cell_type": "code",
   "execution_count": 386,
   "metadata": {},
   "outputs": [
    {
     "data": {
      "text/html": [
       "<div>\n",
       "<style scoped>\n",
       "    .dataframe tbody tr th:only-of-type {\n",
       "        vertical-align: middle;\n",
       "    }\n",
       "\n",
       "    .dataframe tbody tr th {\n",
       "        vertical-align: top;\n",
       "    }\n",
       "\n",
       "    .dataframe thead th {\n",
       "        text-align: right;\n",
       "    }\n",
       "</style>\n",
       "<table border=\"1\" class=\"dataframe\">\n",
       "  <thead>\n",
       "    <tr style=\"text-align: right;\">\n",
       "      <th></th>\n",
       "      <th>Have you ever taken a course in statistics?</th>\n",
       "      <th>Do you have any previous experience with programming?</th>\n",
       "      <th>What's your interest in data science?</th>\n",
       "      <th>Just for fun, do you prefer dogs or cat?</th>\n",
       "    </tr>\n",
       "  </thead>\n",
       "  <tbody>\n",
       "    <tr>\n",
       "      <th>0</th>\n",
       "      <td>Yep</td>\n",
       "      <td>Nope</td>\n",
       "      <td>I want to get a job where I use data science</td>\n",
       "      <td>Cats ?±</td>\n",
       "    </tr>\n",
       "    <tr>\n",
       "      <th>1</th>\n",
       "      <td>Yep</td>\n",
       "      <td>I have quite a bit of experience</td>\n",
       "      <td>I want to get a job where I use data science</td>\n",
       "      <td>Dogs ?¶</td>\n",
       "    </tr>\n",
       "    <tr>\n",
       "      <th>2</th>\n",
       "      <td>Yep</td>\n",
       "      <td>I have a little bit of experience</td>\n",
       "      <td>It will help me in my current job</td>\n",
       "      <td>Dogs ?¶</td>\n",
       "    </tr>\n",
       "    <tr>\n",
       "      <th>3</th>\n",
       "      <td>Nope</td>\n",
       "      <td>I have a little bit of experience</td>\n",
       "      <td>Just curious</td>\n",
       "      <td>Cats ?±</td>\n",
       "    </tr>\n",
       "    <tr>\n",
       "      <th>4</th>\n",
       "      <td>Yes, but I've forgotten everything</td>\n",
       "      <td>I have quite a bit of experience</td>\n",
       "      <td>I want to get a job where I use data science</td>\n",
       "      <td>Neither ?…</td>\n",
       "    </tr>\n",
       "  </tbody>\n",
       "</table>\n",
       "</div>"
      ],
      "text/plain": [
       "  Have you ever taken a course in statistics?  \\\n",
       "0                                         Yep   \n",
       "1                                         Yep   \n",
       "2                                         Yep   \n",
       "3                                        Nope   \n",
       "4          Yes, but I've forgotten everything   \n",
       "\n",
       "  Do you have any previous experience with programming?  \\\n",
       "0                                               Nope      \n",
       "1                   I have quite a bit of experience      \n",
       "2                  I have a little bit of experience      \n",
       "3                  I have a little bit of experience      \n",
       "4                   I have quite a bit of experience      \n",
       "\n",
       "          What's your interest in data science?  \\\n",
       "0  I want to get a job where I use data science   \n",
       "1  I want to get a job where I use data science   \n",
       "2             It will help me in my current job   \n",
       "3                                  Just curious   \n",
       "4  I want to get a job where I use data science   \n",
       "\n",
       "  Just for fun, do you prefer dogs or cat?  \n",
       "0                                  Cats ?±  \n",
       "1                                  Dogs ?¶  \n",
       "2                                  Dogs ?¶  \n",
       "3                                  Cats ?±  \n",
       "4                               Neither ?…  "
      ]
     },
     "execution_count": 386,
     "metadata": {},
     "output_type": "execute_result"
    }
   ],
   "source": [
    "## -> Chi-Square Test of Homogeneity practice\n",
    "\n",
    "# from subprocess import check_output\n",
    "# print(check_output([\"ls\", \"../input\"]).decode(\"utf8\"))\n",
    "survey = pd.read_csv(\"~/data/Kaggle/anonymous-survey-responses.csv\")\n",
    "survey.head()"
   ]
  },
  {
   "cell_type": "code",
   "execution_count": 387,
   "metadata": {},
   "outputs": [
    {
     "data": {
      "text/plain": [
       "Power_divergenceResult(statistic=108.50120096076861, pvalue=2.7495623442639547e-24)"
      ]
     },
     "execution_count": 387,
     "metadata": {},
     "output_type": "execute_result"
    }
   ],
   "source": [
    "sp.stats.chisquare(survey[\"Have you ever taken a course in statistics?\"].value_counts())"
   ]
  },
  {
   "cell_type": "code",
   "execution_count": 388,
   "metadata": {},
   "outputs": [
    {
     "data": {
      "text/plain": [
       "Yep                                   554\n",
       "Yes, but I've forgotten everything    439\n",
       "Nope                                  256\n",
       "Name: Have you ever taken a course in statistics?, dtype: int64"
      ]
     },
     "execution_count": 388,
     "metadata": {},
     "output_type": "execute_result"
    }
   ],
   "source": [
    "stat = survey[\"Have you ever taken a course in statistics?\"].value_counts();stat"
   ]
  },
  {
   "cell_type": "code",
   "execution_count": 389,
   "metadata": {},
   "outputs": [
    {
     "data": {
      "text/plain": [
       "Power_divergenceResult(statistic=906.20016012810243, pvalue=7.5559148788603605e-195)"
      ]
     },
     "execution_count": 389,
     "metadata": {},
     "output_type": "execute_result"
    }
   ],
   "source": [
    "sp.stats.chisquare(survey[\"Do you have any previous experience with programming?\"].value_counts())"
   ]
  },
  {
   "cell_type": "code",
   "execution_count": 390,
   "metadata": {},
   "outputs": [
    {
     "data": {
      "text/plain": [
       "I have quite a bit of experience     528\n",
       "I have a little bit of experience    461\n",
       "I have a whole lot of experience     212\n",
       "Nope                                  46\n",
       "I have a whole lot of expereince       2\n",
       "Name: Do you have any previous experience with programming?, dtype: int64"
      ]
     },
     "execution_count": 390,
     "metadata": {},
     "output_type": "execute_result"
    }
   ],
   "source": [
    "prog = survey[\"Do you have any previous experience with programming?\"].value_counts();prog"
   ]
  },
  {
   "cell_type": "code",
   "execution_count": 391,
   "metadata": {},
   "outputs": [
    {
     "data": {
      "text/html": [
       "<div>\n",
       "<style scoped>\n",
       "    .dataframe tbody tr th:only-of-type {\n",
       "        vertical-align: middle;\n",
       "    }\n",
       "\n",
       "    .dataframe tbody tr th {\n",
       "        vertical-align: top;\n",
       "    }\n",
       "\n",
       "    .dataframe thead th {\n",
       "        text-align: right;\n",
       "    }\n",
       "</style>\n",
       "<table border=\"1\" class=\"dataframe\">\n",
       "  <thead>\n",
       "    <tr style=\"text-align: right;\">\n",
       "      <th>Do you have any previous experience with programming?</th>\n",
       "      <th>I have a little bit of experience</th>\n",
       "      <th>I have a whole lot of expereince</th>\n",
       "      <th>I have a whole lot of experience</th>\n",
       "      <th>I have quite a bit of experience</th>\n",
       "      <th>Nope</th>\n",
       "    </tr>\n",
       "    <tr>\n",
       "      <th>Have you ever taken a course in statistics?</th>\n",
       "      <th></th>\n",
       "      <th></th>\n",
       "      <th></th>\n",
       "      <th></th>\n",
       "      <th></th>\n",
       "    </tr>\n",
       "  </thead>\n",
       "  <tbody>\n",
       "    <tr>\n",
       "      <th>Nope</th>\n",
       "      <td>91</td>\n",
       "      <td>1</td>\n",
       "      <td>39</td>\n",
       "      <td>108</td>\n",
       "      <td>17</td>\n",
       "    </tr>\n",
       "    <tr>\n",
       "      <th>Yep</th>\n",
       "      <td>190</td>\n",
       "      <td>1</td>\n",
       "      <td>109</td>\n",
       "      <td>237</td>\n",
       "      <td>17</td>\n",
       "    </tr>\n",
       "    <tr>\n",
       "      <th>Yes, but I've forgotten everything</th>\n",
       "      <td>180</td>\n",
       "      <td>0</td>\n",
       "      <td>64</td>\n",
       "      <td>183</td>\n",
       "      <td>12</td>\n",
       "    </tr>\n",
       "  </tbody>\n",
       "</table>\n",
       "</div>"
      ],
      "text/plain": [
       "Do you have any previous experience with programming?  I have a little bit of experience  \\\n",
       "Have you ever taken a course in statistics?                                                \n",
       "Nope                                                                                  91   \n",
       "Yep                                                                                  190   \n",
       "Yes, but I've forgotten everything                                                   180   \n",
       "\n",
       "Do you have any previous experience with programming?  I have a whole lot of expereince  \\\n",
       "Have you ever taken a course in statistics?                                               \n",
       "Nope                                                                                  1   \n",
       "Yep                                                                                   1   \n",
       "Yes, but I've forgotten everything                                                    0   \n",
       "\n",
       "Do you have any previous experience with programming?  I have a whole lot of experience  \\\n",
       "Have you ever taken a course in statistics?                                               \n",
       "Nope                                                                                 39   \n",
       "Yep                                                                                 109   \n",
       "Yes, but I've forgotten everything                                                   64   \n",
       "\n",
       "Do you have any previous experience with programming?  I have quite a bit of experience  \\\n",
       "Have you ever taken a course in statistics?                                               \n",
       "Nope                                                                                108   \n",
       "Yep                                                                                 237   \n",
       "Yes, but I've forgotten everything                                                  183   \n",
       "\n",
       "Do you have any previous experience with programming?  Nope  \n",
       "Have you ever taken a course in statistics?                  \n",
       "Nope                                                     17  \n",
       "Yep                                                      17  \n",
       "Yes, but I've forgotten everything                       12  "
      ]
     },
     "execution_count": 391,
     "metadata": {},
     "output_type": "execute_result"
    }
   ],
   "source": [
    "cont = pd.crosstab(survey[\"Have you ever taken a course in statistics?\"],survey[\"Do you have any previous experience with programming?\"]);cont"
   ]
  },
  {
   "cell_type": "code",
   "execution_count": 392,
   "metadata": {},
   "outputs": [
    {
     "data": {
      "text/plain": [
       "(16.827631021435366,\n",
       " 0.03195483698199162,\n",
       " 8,\n",
       " array([[  94.48839071,    0.40992794,   43.45236189,  108.22097678,\n",
       "            9.42834267],\n",
       "        [ 204.47878303,    0.88710969,   94.0336269 ,  234.19695757,\n",
       "           20.40352282],\n",
       "        [ 162.03282626,    0.70296237,   74.51401121,  185.58206565,\n",
       "           16.16813451]]))"
      ]
     },
     "execution_count": 392,
     "metadata": {},
     "output_type": "execute_result"
    }
   ],
   "source": [
    "chi2, p, dof, expected = sp.stats.chi2_contingency(cont);chi2, p, dof, expected "
   ]
  },
  {
   "cell_type": "code",
   "execution_count": 393,
   "metadata": {},
   "outputs": [
    {
     "data": {
      "text/html": [
       "<div>\n",
       "<style scoped>\n",
       "    .dataframe tbody tr th:only-of-type {\n",
       "        vertical-align: middle;\n",
       "    }\n",
       "\n",
       "    .dataframe tbody tr th {\n",
       "        vertical-align: top;\n",
       "    }\n",
       "\n",
       "    .dataframe thead th {\n",
       "        text-align: right;\n",
       "    }\n",
       "</style>\n",
       "<table border=\"1\" class=\"dataframe\">\n",
       "  <thead>\n",
       "    <tr style=\"text-align: right;\">\n",
       "      <th></th>\n",
       "      <th>I have quite a bit of experience</th>\n",
       "      <th>I have a little bit of experience</th>\n",
       "      <th>I have a whole lot of experience</th>\n",
       "      <th>Nope</th>\n",
       "      <th>I have a whole lot of expereince</th>\n",
       "    </tr>\n",
       "  </thead>\n",
       "  <tbody>\n",
       "    <tr>\n",
       "      <th>Yep</th>\n",
       "      <td>94.488391</td>\n",
       "      <td>0.409928</td>\n",
       "      <td>43.452362</td>\n",
       "      <td>108.220977</td>\n",
       "      <td>9.428343</td>\n",
       "    </tr>\n",
       "    <tr>\n",
       "      <th>Yes, but I've forgotten everything</th>\n",
       "      <td>204.478783</td>\n",
       "      <td>0.887110</td>\n",
       "      <td>94.033627</td>\n",
       "      <td>234.196958</td>\n",
       "      <td>20.403523</td>\n",
       "    </tr>\n",
       "    <tr>\n",
       "      <th>Nope</th>\n",
       "      <td>162.032826</td>\n",
       "      <td>0.702962</td>\n",
       "      <td>74.514011</td>\n",
       "      <td>185.582066</td>\n",
       "      <td>16.168135</td>\n",
       "    </tr>\n",
       "  </tbody>\n",
       "</table>\n",
       "</div>"
      ],
      "text/plain": [
       "                                    I have quite a bit of experience  \\\n",
       "Yep                                                        94.488391   \n",
       "Yes, but I've forgotten everything                        204.478783   \n",
       "Nope                                                      162.032826   \n",
       "\n",
       "                                    I have a little bit of experience  \\\n",
       "Yep                                                          0.409928   \n",
       "Yes, but I've forgotten everything                           0.887110   \n",
       "Nope                                                         0.702962   \n",
       "\n",
       "                                    I have a whole lot of experience  \\\n",
       "Yep                                                        43.452362   \n",
       "Yes, but I've forgotten everything                         94.033627   \n",
       "Nope                                                       74.514011   \n",
       "\n",
       "                                          Nope  \\\n",
       "Yep                                 108.220977   \n",
       "Yes, but I've forgotten everything  234.196958   \n",
       "Nope                                185.582066   \n",
       "\n",
       "                                    I have a whole lot of expereince  \n",
       "Yep                                                         9.428343  \n",
       "Yes, but I've forgotten everything                         20.403523  \n",
       "Nope                                                       16.168135  "
      ]
     },
     "execution_count": 393,
     "metadata": {},
     "output_type": "execute_result"
    }
   ],
   "source": [
    "pd.DataFrame(expected, index=stat.index, columns=prog.index)"
   ]
  },
  {
   "cell_type": "code",
   "execution_count": 394,
   "metadata": {},
   "outputs": [
    {
     "data": {
      "text/plain": [
       "(Text(0.5, 0, 'x^2: Chi-square statistics value'), None)"
      ]
     },
     "execution_count": 394,
     "metadata": {},
     "output_type": "execute_result"
    },
    {
     "data": {
      "image/png": "[encoded data removed]",
      "text/plain": [
       "<Figure size 360x216 with 1 Axes>"
      ]
     },
     "metadata": {
      "needs_background": "light"
     },
     "output_type": "display_data"
    }
   ],
   "source": [
    "fig, ax1 = plt.subplots(figsize=(5,3))\n",
    "x = np.arange(0, 30, .05)\n",
    "ax1.plot(x, sp.stats.chi2.pdf(x, df=dof), color='r', lw=2)\n",
    "##\n",
    "dot = sp.stats.chi2.pdf(chi2, df=dof)\n",
    "ax1.plot(chi2, dot, marker='o')\n",
    "ax1.vlines(chi2, 0, dot, colors='b', lw=5, alpha=0.5)\n",
    "##\n",
    "ax1.set_ylabel('PDF: for Chi-square distribution', color='r')\n",
    "ax1.set_xlabel('x^2: Chi-square statistics value', color='b'), ax2.tick_params('y', colors='b')"
   ]
  },
  {
   "cell_type": "code",
   "execution_count": 399,
   "metadata": {},
   "outputs": [
    {
     "data": {
      "text/plain": [
       "Text(0.8, 0.8, '0.97')"
      ]
     },
     "execution_count": 399,
     "metadata": {},
     "output_type": "execute_result"
    },
    {
     "data": {
      "image/png": "[encoded data removed]",
      "text/plain": [
       "<Figure size 360x216 with 1 Axes>"
      ]
     },
     "metadata": {
      "needs_background": "light"
     },
     "output_type": "display_data"
    }
   ],
   "source": [
    "fig, ax1 = plt.subplots(figsize=(5,3))\n",
    "ax1.plot(x, sp.stats.chi2.cdf(x=x, df=dof),color='m', lw=2, alpha=0.5)\n",
    "dot = sp.stats.chi2.cdf(chi2, df=dof)\n",
    "ax1.plot(chi2, dot, marker='o')\n",
    "ax1.vlines(chi2, 0, dot, colors='b', lw=5, alpha=0.5)\n",
    "ax1.annotate(round(dot, 2), (chi2, dot),\n",
    "            xytext=(0.8, 0.8), textcoords='axes fraction',\n",
    "            arrowprops=dict(facecolor='blue', shrink=0.05),\n",
    "            fontsize=12,\n",
    "            horizontalalignment='right', verticalalignment='bottom')\n",
    "## significance level 0.05, means one proportion is not identical to that of others\n",
    "## also concluded that there is a signicant association between variable 1 and valuable 2\n",
    "## association between \n",
    "## \"Have you ever taken a course in statistics? and \n",
    "## \"Do you have any previous experience with programming?\""
   ]
  },
  {
   "cell_type": "code",
   "execution_count": 318,
   "metadata": {
    "collapsed": true
   },
   "outputs": [],
   "source": [
    "## Null hypothesis: μd = 0 ;x1-x2 = 0\n",
    "## Alternative hypothesis: μd ≠ 0\n",
    "data = '''\n",
    "training,no_training\n",
    "95,90\n",
    "89,85\n",
    "76,73\n",
    "92,90\n",
    "91,90\n",
    "53,53\n",
    "67,68\n",
    "88,90\n",
    "75,78\n",
    "85,89\n",
    "90,95\n",
    "85,83\n",
    "87,83\n",
    "85,83\n",
    "85,82\n",
    "68,65\n",
    "81,79\n",
    "84,83\n",
    "71,60\n",
    "46,47\n",
    "75,77\n",
    "80,83\n",
    "'''"
   ]
  },
  {
   "cell_type": "code",
   "execution_count": 380,
   "metadata": {},
   "outputs": [
    {
     "data": {
      "text/html": [
       "<div>\n",
       "<style scoped>\n",
       "    .dataframe tbody tr th:only-of-type {\n",
       "        vertical-align: middle;\n",
       "    }\n",
       "\n",
       "    .dataframe tbody tr th {\n",
       "        vertical-align: top;\n",
       "    }\n",
       "\n",
       "    .dataframe thead th {\n",
       "        text-align: right;\n",
       "    }\n",
       "</style>\n",
       "<table border=\"1\" class=\"dataframe\">\n",
       "  <thead>\n",
       "    <tr style=\"text-align: right;\">\n",
       "      <th></th>\n",
       "      <th>training</th>\n",
       "      <th>no_training</th>\n",
       "      <th>d</th>\n",
       "      <th>d_d</th>\n",
       "    </tr>\n",
       "  </thead>\n",
       "  <tbody>\n",
       "    <tr>\n",
       "      <th>0</th>\n",
       "      <td>95</td>\n",
       "      <td>90</td>\n",
       "      <td>5</td>\n",
       "      <td>16.0</td>\n",
       "    </tr>\n",
       "    <tr>\n",
       "      <th>1</th>\n",
       "      <td>89</td>\n",
       "      <td>85</td>\n",
       "      <td>4</td>\n",
       "      <td>9.0</td>\n",
       "    </tr>\n",
       "    <tr>\n",
       "      <th>2</th>\n",
       "      <td>76</td>\n",
       "      <td>73</td>\n",
       "      <td>3</td>\n",
       "      <td>4.0</td>\n",
       "    </tr>\n",
       "    <tr>\n",
       "      <th>3</th>\n",
       "      <td>92</td>\n",
       "      <td>90</td>\n",
       "      <td>2</td>\n",
       "      <td>1.0</td>\n",
       "    </tr>\n",
       "    <tr>\n",
       "      <th>4</th>\n",
       "      <td>91</td>\n",
       "      <td>90</td>\n",
       "      <td>1</td>\n",
       "      <td>0.0</td>\n",
       "    </tr>\n",
       "  </tbody>\n",
       "</table>\n",
       "</div>"
      ],
      "text/plain": [
       "   training  no_training  d   d_d\n",
       "0        95           90  5  16.0\n",
       "1        89           85  4   9.0\n",
       "2        76           73  3   4.0\n",
       "3        92           90  2   1.0\n",
       "4        91           90  1   0.0"
      ]
     },
     "execution_count": 380,
     "metadata": {},
     "output_type": "execute_result"
    }
   ],
   "source": [
    "try:\n",
    "    from StringIO import StringIO\n",
    "except ImportError:\n",
    "    from io import StringIO\n",
    "df = pd.read_csv(StringIO(data))\n",
    "df = df.assign(d = lambda x: x['training']- x['no_training'])\n",
    "df = df.assign(d_d = lambda x : (x['d'] - df.d.mean())**2);df.head(5)"
   ]
  },
  {
   "cell_type": "code",
   "execution_count": 363,
   "metadata": {},
   "outputs": [
    {
     "data": {
      "text/plain": [
       "0.7644707871564382"
      ]
     },
     "execution_count": 363,
     "metadata": {},
     "output_type": "execute_result"
    }
   ],
   "source": [
    "import math \n",
    "s = math.sqrt(df.d_d.sum()/ (len(df)-1))\n",
    "se = s / math.sqrt(len(df));se"
   ]
  },
  {
   "cell_type": "code",
   "execution_count": 376,
   "metadata": {
    "collapsed": true
   },
   "outputs": [],
   "source": [
    "D = 0 # this case n0 = 0\n",
    "t = (df.d.mean()-D)/se"
   ]
  },
  {
   "cell_type": "code",
   "execution_count": 378,
   "metadata": {},
   "outputs": [],
   "source": [
    "dof = len(df)-1\n",
    "p = sp.stats.t.sf(t, dof, loc=0, scale=1)"
   ]
  },
  {
   "cell_type": "code",
   "execution_count": 379,
   "metadata": {},
   "outputs": [
    {
     "data": {
      "text/plain": [
       "True"
      ]
     },
     "execution_count": 379,
     "metadata": {},
     "output_type": "execute_result"
    }
   ],
   "source": [
    "# in this case n0 = 0, na ≠ 0, thus, two-tailed test\n",
    "# significant level is 0.05\n",
    "0.05 < p*2\n",
    "## thus p*2 is inside the significance level = within an acceptance of region \n",
    "## can't reject the n0, means training and no_training have no differnet means,\n",
    "## taining made no difference for students"
   ]
  },
  {
   "cell_type": "code",
   "execution_count": null,
   "metadata": {
    "collapsed": true
   },
   "outputs": [],
   "source": []
  },
  {
   "cell_type": "code",
   "execution_count": null,
   "metadata": {
    "collapsed": true
   },
   "outputs": [],
   "source": []
  },
  {
   "cell_type": "code",
   "execution_count": null,
   "metadata": {
    "collapsed": true
   },
   "outputs": [],
   "source": []
  },
  {
   "cell_type": "code",
   "execution_count": null,
   "metadata": {
    "collapsed": true
   },
   "outputs": [],
   "source": []
  }
 ],
 "metadata": {
  "kernelspec": {
   "display_name": "Python 3",
   "language": "python",
   "name": "python3"
  },
  "language_info": {
   "codemirror_mode": {
    "name": "ipython",
    "version": 3
   },
   "file_extension": ".py",
   "mimetype": "text/x-python",
   "name": "python",
   "nbconvert_exporter": "python",
   "pygments_lexer": "ipython3",
   "version": "3.5.6"
  }
 },
 "nbformat": 4,
 "nbformat_minor": 2
}
