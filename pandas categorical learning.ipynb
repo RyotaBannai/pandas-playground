{
 "cells": [
  {
   "cell_type": "code",
   "execution_count": 41,
   "metadata": {},
   "outputs": [
    {
     "data": {
      "text/html": [
       "<div>\n",
       "<style scoped>\n",
       "    .dataframe tbody tr th:only-of-type {\n",
       "        vertical-align: middle;\n",
       "    }\n",
       "\n",
       "    .dataframe tbody tr th {\n",
       "        vertical-align: top;\n",
       "    }\n",
       "\n",
       "    .dataframe thead th {\n",
       "        text-align: right;\n",
       "    }\n",
       "</style>\n",
       "<table border=\"1\" class=\"dataframe\">\n",
       "  <thead>\n",
       "    <tr style=\"text-align: right;\">\n",
       "      <th></th>\n",
       "      <th>value</th>\n",
       "      <th>group</th>\n",
       "    </tr>\n",
       "  </thead>\n",
       "  <tbody>\n",
       "    <tr>\n",
       "      <th>0</th>\n",
       "      <td>40</td>\n",
       "      <td>40 - 49</td>\n",
       "    </tr>\n",
       "    <tr>\n",
       "      <th>1</th>\n",
       "      <td>62</td>\n",
       "      <td>60 - 69</td>\n",
       "    </tr>\n",
       "    <tr>\n",
       "      <th>2</th>\n",
       "      <td>17</td>\n",
       "      <td>10 - 19</td>\n",
       "    </tr>\n",
       "    <tr>\n",
       "      <th>3</th>\n",
       "      <td>86</td>\n",
       "      <td>80 - 89</td>\n",
       "    </tr>\n",
       "    <tr>\n",
       "      <th>4</th>\n",
       "      <td>66</td>\n",
       "      <td>60 - 69</td>\n",
       "    </tr>\n",
       "    <tr>\n",
       "      <th>5</th>\n",
       "      <td>57</td>\n",
       "      <td>50 - 59</td>\n",
       "    </tr>\n",
       "    <tr>\n",
       "      <th>6</th>\n",
       "      <td>87</td>\n",
       "      <td>80 - 89</td>\n",
       "    </tr>\n",
       "    <tr>\n",
       "      <th>7</th>\n",
       "      <td>43</td>\n",
       "      <td>40 - 49</td>\n",
       "    </tr>\n",
       "    <tr>\n",
       "      <th>8</th>\n",
       "      <td>50</td>\n",
       "      <td>50 - 59</td>\n",
       "    </tr>\n",
       "    <tr>\n",
       "      <th>9</th>\n",
       "      <td>0</td>\n",
       "      <td>0 - 9</td>\n",
       "    </tr>\n",
       "  </tbody>\n",
       "</table>\n",
       "</div>"
      ],
      "text/plain": [
       "   value    group\n",
       "0     40  40 - 49\n",
       "1     62  60 - 69\n",
       "2     17  10 - 19\n",
       "3     86  80 - 89\n",
       "4     66  60 - 69\n",
       "5     57  50 - 59\n",
       "6     87  80 - 89\n",
       "7     43  40 - 49\n",
       "8     50  50 - 59\n",
       "9      0    0 - 9"
      ]
     },
     "execution_count": 41,
     "metadata": {},
     "output_type": "execute_result"
    }
   ],
   "source": [
    "import pandas as pd\n",
    "import numpy as np\n",
    "df = pd.DataFrame({'value': np.random.randint(0, 100, 20)})\n",
    "labels = [ \"{0} - {1}\".format(i, i + 9) for i in range(0, 100, 10) ]\n",
    "df['group'] = pd.cut(df.value, range(0, 105, 10), right=False, labels=labels)\n",
    "df.head(10)"
   ]
  },
  {
   "cell_type": "code",
   "execution_count": 42,
   "metadata": {},
   "outputs": [
    {
     "data": {
      "text/plain": [
       "0    NaN\n",
       "1      b\n",
       "2      c\n",
       "3    NaN\n",
       "dtype: category\n",
       "Categories (3, object): [b, c, d]"
      ]
     },
     "execution_count": 42,
     "metadata": {},
     "output_type": "execute_result"
    }
   ],
   "source": [
    "raw_cat = pd.Categorical([\"a\",\"b\",\"c\",\"a\"], categories=[\"b\",\"c\",\"d\"],ordered=False)\n",
    "s = pd.Series(raw_cat)\n",
    "s # a is no belong to any category"
   ]
  },
  {
   "cell_type": "code",
   "execution_count": 43,
   "metadata": {},
   "outputs": [
    {
     "data": {
      "text/plain": [
       "0    nan\n",
       "1      b\n",
       "2      c\n",
       "3    nan\n",
       "dtype: object"
      ]
     },
     "execution_count": 43,
     "metadata": {},
     "output_type": "execute_result"
    }
   ],
   "source": [
    "from pandas.api.types import CategoricalDtype\n",
    "s = pd.Series([\"a\", \"b\", \"c\", \"a\"])\n",
    "cat_type = CategoricalDtype(categories=[\"b\", \"c\", \"d\"], ordered=True)\n",
    "s_cat = s.astype(cat_type)\n",
    "s_cat.dtype\n",
    "s_cat.astype(str)\n",
    "#np.asarray(s_cat) # back to array object"
   ]
  },
  {
   "cell_type": "code",
   "execution_count": 44,
   "metadata": {
    "collapsed": true
   },
   "outputs": [],
   "source": [
    "#splitter = np.random.choice([0,1], 5, p=[0.5,0.5])\n",
    "#s = pd.Series(pd.Categorical.from_codes(splitter, categories=[\"train\", \"test\"]))"
   ]
  },
  {
   "cell_type": "code",
   "execution_count": 45,
   "metadata": {},
   "outputs": [
    {
     "data": {
      "text/plain": [
       "True"
      ]
     },
     "execution_count": 45,
     "metadata": {},
     "output_type": "execute_result"
    }
   ],
   "source": [
    "##comparing categories\n",
    "c1 = CategoricalDtype(['a', 'b', 'c'], ordered=False)\n",
    "c1 == CategoricalDtype(['a', 'b', 'c'], ordered=False)"
   ]
  },
  {
   "cell_type": "code",
   "execution_count": 46,
   "metadata": {},
   "outputs": [
    {
     "data": {
      "text/plain": [
       "True"
      ]
     },
     "execution_count": 46,
     "metadata": {},
     "output_type": "execute_result"
    }
   ],
   "source": [
    "c1 == 'category'"
   ]
  },
  {
   "cell_type": "code",
   "execution_count": 47,
   "metadata": {},
   "outputs": [],
   "source": [
    "##renaming\n",
    "s = pd.Series([\"a\",\"b\",\"c\",\"a\"], dtype=\"category\")\n",
    "s.cat.categories = [\"Group %s\" % g for g in s.cat.categories]\n",
    "##adding new category & removing, doing the both together -> set_categories\n",
    "s = s.cat.add_categories([4])\n",
    "s = s.cat.remove_categories([4])\n",
    "s = s.cat.set_categories([\"one\",\"two\",\"three\",\"four\"])"
   ]
  },
  {
   "cell_type": "code",
   "execution_count": 48,
   "metadata": {},
   "outputs": [
    {
     "data": {
      "text/plain": [
       "[b, c, a, b]\n",
       "Categories (3, object): [a, b, c]"
      ]
     },
     "execution_count": 48,
     "metadata": {},
     "output_type": "execute_result"
    }
   ],
   "source": [
    "#unioning catetories\n",
    "from pandas.api.types import union_categoricals\n",
    "a = pd.Categorical([\"b\", \"c\"])\n",
    "b = pd.Categorical([\"a\", \"b\"])\n",
    "union_categoricals([a, b], sort_categories=True) #sort lixically"
   ]
  },
  {
   "cell_type": "code",
   "execution_count": 49,
   "metadata": {},
   "outputs": [
    {
     "data": {
      "text/plain": [
       "(2, 1)"
      ]
     },
     "execution_count": 49,
     "metadata": {},
     "output_type": "execute_result"
    }
   ],
   "source": [
    "#!!! Sorting will use the order defined by categories, \n",
    "#!!! not any lexical order present on the data type\n",
    "s = pd.Series([1,2,3,1], dtype=\"category\")\n",
    "s = s.cat.set_categories([2,3,1], ordered=True)\n",
    "s.sort_values(inplace=True)\n",
    "s.min(), s.max()\n",
    "##"
   ]
  },
  {
   "cell_type": "code",
   "execution_count": 50,
   "metadata": {
    "collapsed": true
   },
   "outputs": [],
   "source": [
    "#s.cat.reorder_categories(['b','a','c'], ordered=True).sort_values()"
   ]
  },
  {
   "cell_type": "code",
   "execution_count": 51,
   "metadata": {},
   "outputs": [
    {
     "data": {
      "text/plain": [
       "0    a\n",
       "1    a\n",
       "2    b\n",
       "3    b\n",
       "dtype: object"
      ]
     },
     "execution_count": 51,
     "metadata": {},
     "output_type": "execute_result"
    }
   ],
   "source": [
    "str_s = pd.Series(list('aabb'))\n",
    "str_cat = str_s.astype('category')\n",
    "str_s"
   ]
  },
  {
   "cell_type": "code",
   "execution_count": 52,
   "metadata": {},
   "outputs": [
    {
     "data": {
      "text/plain": [
       "0     True\n",
       "1     True\n",
       "2    False\n",
       "3    False\n",
       "dtype: bool"
      ]
     },
     "execution_count": 52,
     "metadata": {},
     "output_type": "execute_result"
    }
   ],
   "source": [
    "str_cat.str.contains(\"a\")"
   ]
  },
  {
   "cell_type": "code",
   "execution_count": 53,
   "metadata": {},
   "outputs": [
    {
     "data": {
      "text/plain": [
       "0    2015-01-01\n",
       "1    2015-01-02\n",
       "2    2015-01-03\n",
       "3    2015-01-04\n",
       "4    2015-01-05\n",
       "dtype: object"
      ]
     },
     "execution_count": 53,
     "metadata": {},
     "output_type": "execute_result"
    }
   ],
   "source": [
    "date_s = pd.Series(pd.date_range('1/1/2015', periods=5))\n",
    "date_cat = date_s.astype('category')\n",
    "date_cat.dt.date"
   ]
  },
  {
   "cell_type": "code",
   "execution_count": 54,
   "metadata": {},
   "outputs": [
    {
     "data": {
      "text/plain": [
       "Unnamed: 0     int64\n",
       "cats          object\n",
       "vals           int64\n",
       "dtype: object"
      ]
     },
     "execution_count": 54,
     "metadata": {},
     "output_type": "execute_result"
    }
   ],
   "source": [
    "from io import StringIO\n",
    "s = pd.Series(pd.Categorical(['a', 'b', 'b', 'a', 'a', 'd']))\n",
    "s.cat.categories = [\"very good\", \"good\", \"bad\"]\n",
    "s = s.cat.set_categories([\"very bad\", \"bad\", \"medium\", \"good\", \"very good\"])\n",
    "df = pd.DataFrame({\"cats\":s, \"vals\":[1,2,3,4,5,6]})\n",
    "csv = StringIO()\n",
    "df.to_csv(csv)\n",
    "df2 = pd.read_csv(StringIO(csv.getvalue()))\n",
    "df2.dtypes"
   ]
  },
  {
   "cell_type": "code",
   "execution_count": 55,
   "metadata": {},
   "outputs": [
    {
     "data": {
      "text/plain": [
       "0    very good\n",
       "1         good\n",
       "2         good\n",
       "3    very good\n",
       "4    very good\n",
       "5          bad\n",
       "Name: cats, dtype: object"
      ]
     },
     "execution_count": 55,
     "metadata": {},
     "output_type": "execute_result"
    }
   ],
   "source": [
    "df2[\"cats\"]"
   ]
  },
  {
   "cell_type": "code",
   "execution_count": 56,
   "metadata": {},
   "outputs": [
    {
     "data": {
      "text/plain": [
       "0    very good\n",
       "1         good\n",
       "2         good\n",
       "3    very good\n",
       "4    very good\n",
       "5          bad\n",
       "Name: cats, dtype: category\n",
       "Categories (5, object): [very bad, bad, medium, good, very good]"
      ]
     },
     "execution_count": 56,
     "metadata": {},
     "output_type": "execute_result"
    }
   ],
   "source": [
    "df2[\"cats\"] = df2[\"cats\"].astype(\"category\")\n",
    "df2[\"cats\"].cat.set_categories([\"very bad\", \"bad\", \"medium\", \"good\", \"very good\"],inplace=True)\n",
    "df2[\"cats\"]"
   ]
  },
  {
   "cell_type": "code",
   "execution_count": null,
   "metadata": {},
   "outputs": [],
   "source": []
  },
  {
   "cell_type": "code",
   "execution_count": 57,
   "metadata": {},
   "outputs": [
    {
     "ename": "NameError",
     "evalue": "name 'g' is not defined",
     "output_type": "error",
     "traceback": [
      "\u001b[0;31m--------------------------------------------------------------------\u001b[0m",
      "\u001b[0;31mNameError\u001b[0m                          Traceback (most recent call last)",
      "\u001b[0;32m<ipython-input-57-04e4b97db0c2>\u001b[0m in \u001b[0;36m<module>\u001b[0;34m()\u001b[0m\n\u001b[1;32m      1\u001b[0m \u001b[0;31m#error fill value must be in categories\u001b[0m\u001b[0;34m\u001b[0m\u001b[0;34m\u001b[0m\u001b[0m\n\u001b[0;32m----> 2\u001b[0;31m \u001b[0mg\u001b[0m \u001b[0;34m=\u001b[0m \u001b[0mg\u001b[0m\u001b[0;34m.\u001b[0m\u001b[0mcat\u001b[0m\u001b[0;34m.\u001b[0m\u001b[0madd_categories\u001b[0m\u001b[0;34m(\u001b[0m\u001b[0;34m[\u001b[0m\u001b[0;36m1\u001b[0m\u001b[0;34m]\u001b[0m\u001b[0;34m)\u001b[0m\u001b[0;34m\u001b[0m\u001b[0m\n\u001b[0m\u001b[1;32m      3\u001b[0m \u001b[0mg\u001b[0m\u001b[0;34m.\u001b[0m\u001b[0mfillna\u001b[0m\u001b[0;34m(\u001b[0m\u001b[0;36m1\u001b[0m\u001b[0;34m)\u001b[0m\u001b[0;34m\u001b[0m\u001b[0m\n\u001b[1;32m      4\u001b[0m \u001b[0;31m#To check if a Series contains Categorical data, use hasattr(s, 'cat'):\u001b[0m\u001b[0;34m\u001b[0m\u001b[0;34m\u001b[0m\u001b[0m\n\u001b[1;32m      5\u001b[0m \u001b[0mhasattr\u001b[0m\u001b[0;34m(\u001b[0m\u001b[0mpd\u001b[0m\u001b[0;34m.\u001b[0m\u001b[0mSeries\u001b[0m\u001b[0;34m(\u001b[0m\u001b[0;34m[\u001b[0m\u001b[0;34m'a'\u001b[0m\u001b[0;34m]\u001b[0m\u001b[0;34m,\u001b[0m \u001b[0mdtype\u001b[0m\u001b[0;34m=\u001b[0m\u001b[0;34m'category'\u001b[0m\u001b[0;34m)\u001b[0m\u001b[0;34m,\u001b[0m \u001b[0;34m'cat'\u001b[0m\u001b[0;34m)\u001b[0m\u001b[0;34m\u001b[0m\u001b[0m\n",
      "\u001b[0;31mNameError\u001b[0m: name 'g' is not defined"
     ]
    }
   ],
   "source": [
    "#error fill value must be in categories\n",
    "g = g.cat.add_categories([1])\n",
    "g.fillna(1)\n",
    "#To check if a Series contains Categorical data, use hasattr(s, 'cat'):\n",
    "hasattr(pd.Series(['a'], dtype='category'), 'cat')"
   ]
  },
  {
   "cell_type": "code",
   "execution_count": 58,
   "metadata": {},
   "outputs": [
    {
     "data": {
      "text/plain": [
       "[5, 5, 3, 5]\n",
       "Categories (5, int64): [1, 2, 3, 4, 5]"
      ]
     },
     "execution_count": 58,
     "metadata": {},
     "output_type": "execute_result"
    }
   ],
   "source": [
    "##Side Effects\n",
    "cat = pd.Categorical([1,2,3,10], categories=[1,2,3,4,10])\n",
    "s = pd.Series(cat, name=\"cat\")\n",
    "s.iloc[0:2] = 10\n",
    "df = pd.DataFrame(s)\n",
    "df[\"cat\"].cat.categories = [1,2,3,4,5]\n",
    "cat"
   ]
  },
  {
   "cell_type": "code",
   "execution_count": 60,
   "metadata": {},
   "outputs": [
    {
     "data": {
      "text/plain": [
       "[1, 2, 3, 10]\n",
       "Categories (5, int64): [1, 2, 3, 4, 10]"
      ]
     },
     "execution_count": 60,
     "metadata": {},
     "output_type": "execute_result"
    }
   ],
   "source": [
    "##prevent modify the oridinal cat data use copy = True\n",
    "cat = pd.Categorical([1,2,3,10], categories=[1,2,3,4,10])\n",
    "s = pd.Series(cat, name=\"cat\", copy=True)\n",
    "s.iloc[0:2] = 10\n",
    "df = pd.DataFrame(s)\n",
    "df[\"cat\"].cat.categories = [1,2,3,4,5]\n",
    "cat"
   ]
  },
  {
   "cell_type": "code",
   "execution_count": null,
   "metadata": {
    "collapsed": true
   },
   "outputs": [],
   "source": []
  }
 ],
 "metadata": {
  "kernelspec": {
   "display_name": "Python 3",
   "language": "python",
   "name": "python3"
  },
  "language_info": {
   "codemirror_mode": {
    "name": "ipython",
    "version": 3
   },
   "file_extension": ".py",
   "mimetype": "text/x-python",
   "name": "python",
   "nbconvert_exporter": "python",
   "pygments_lexer": "ipython3",
   "version": "3.5.6"
  }
 },
 "nbformat": 4,
 "nbformat_minor": 2
}
